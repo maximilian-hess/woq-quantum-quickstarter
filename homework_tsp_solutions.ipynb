{
 "cells": [
  {
   "cell_type": "markdown",
   "metadata": {},
   "source": [
    "# Exercise 2: Traveling Salesperson Problem (TSP)\n",
    "In today's lecture you learned how to derive a QUBO formulation for the Knapsack problem. There is no uniform way to derive a QUBO formulation for a general problem, but (https://arxiv.org/pdf/1302.5843.pdf) by Andrew Lucas gives a few formulations for known combinatorial optimization problems. One of them is the travelling salesperson problem (TSP), on which you will have a closer look on in this exercise.\n",
    "\n",
    "Consider the following problem: you have to deliver a cupcake to each of your coworkers. Let your coworkers be represented as vertices on a graph. Let there be an edge matrix defining a travel time (edge cost) between every coworker (vertex) to another. How can you deliver a cupcake to each coworker, while visiting each coworker exactly once, and return to your starting location, while minimizing your travel time?\n",
    "\n",
    "This is an NP-hard combinatorial optimization problem called the traveling salesperson problem.\n",
    "\n",
    "Generalizing, you are faced with the following optimization problem:\n",
    "\n",
    "you have a finite set of vertices, $V$, and an edge cost matrix, $D: V\\times V\\rightarrow \\mathbb{R}$, defining a cost between each vertex. What is the lowest cost route possible that visits each vertex exactly once and returns to the origin vertex. \n",
    "\n",
    "We will write this problem as a QUBO formulation using the binary variable $x_{i,j}\\in\\{0,1\\}$. Let $N$ be the number of vertices in the graph, $i\\in\\{0,...,N-1\\}$, and $j\\in\\{0,...,N-1\\}$. The index $i$ labels the vertices of the graph and $j$ represents the order of the vertices in a potential tour through the graph vertices. Such that, $x_{i,j}=1$ if vertex $i$ is visited at location $j$ in the tour, and $x_{i,j}=0$ otherwise. \n",
    "\n",
    "First, we will initialize our 3 vertex TSP instance for this example."
   ]
  },
  {
   "cell_type": "code",
   "execution_count": 1,
   "metadata": {},
   "outputs": [
    {
     "name": "stdout",
     "output_type": "stream",
     "text": [
      "(CVXPY) Apr 27 01:39:57 PM: Encountered unexpected exception importing solver GLOP:\n",
      "RuntimeError('Version of ortools (9.2.9972) is too old. Expected >= 9.3.0.')\n",
      "(CVXPY) Apr 27 01:39:57 PM: Encountered unexpected exception importing solver PDLP:\n",
      "RuntimeError('Version of ortools (9.2.9972) is too old. Expected >= 9.3.0.')\n",
      "[[ 0. 48. 91.]\n",
      " [48.  0. 63.]\n",
      " [91. 63.  0.]]\n"
     ]
    },
    {
     "data": {
      "image/png": "[encoded data removed]",
      "text/plain": [
       "<Figure size 432x288 with 1 Axes>"
      ]
     },
     "metadata": {},
     "output_type": "display_data"
    }
   ],
   "source": [
    "import numpy as np\n",
    "from qiskit.optimization.applications.ising import tsp\n",
    "import matplotlib.pyplot as plt\n",
    "import matplotlib.axes as axes\n",
    "%matplotlib inline\n",
    "import networkx as nx\n",
    "def draw_graph(G, colors, pos):\n",
    "    default_axes = plt.axes(frameon=True)\n",
    "    nx.draw_networkx(G, node_color=colors, node_size=600, alpha=.8, ax=default_axes, pos=pos)\n",
    "    edge_labels = nx.get_edge_attributes(G, 'weight')\n",
    "    nx.draw_networkx_edge_labels(G, pos=pos, edge_labels=edge_labels)\n",
    "    \n",
    "    \n",
    "#N is the number of vertices in our graph\n",
    "N=3\n",
    "ins = tsp.random_tsp(N, seed=123)\n",
    "#D is our edge cost matrix\n",
    "D=np.array(ins.w)\n",
    "print(D)\n",
    "\n",
    "# Draw the graph\n",
    "G = nx.Graph()\n",
    "G.add_nodes_from(np.arange(0, ins.dim, 1))\n",
    "colors = ['r' for node in G.nodes()]\n",
    "for i in range(0, ins.dim):\n",
    "    for j in range(i+1, ins.dim):\n",
    "        G.add_edge(i, j, weight=ins.w[i,j])\n",
    "pos = {k: v for k, v in enumerate(ins.coord)}\n",
    "draw_graph(G, colors, pos)"
   ]
  },
  {
   "cell_type": "markdown",
   "metadata": {},
   "source": [
    "Homework 1.1\n",
    "\n",
    "Given a graph G with vertices, $V={0,1,2}$. Given the tour order, $O={2,0,1}$, determine the corresponding bitstring $x\\in \\{0,1\\}^{3\\times 3}$.\n",
    "<br>\n",
    "$x_{0,0}=0 $<br>\n",
    "$x_{0,1}=1 $<br>\n",
    "$x_{0,2}=0 $<br> \n",
    "$x_{1,0}=0 $<br> \n",
    "$x_{1,1}=0 $<br> \n",
    "$x_{1,2}=1 $<br> \n",
    "$x_{2,0}=1 $<br> \n",
    "$x_{2,1}=0 $<br> \n",
    "$x_{2,2}=0 $<br> \n",
    "\n"
   ]
  },
  {
   "cell_type": "code",
   "execution_count": 2,
   "metadata": {},
   "outputs": [
    {
     "name": "stdout",
     "output_type": "stream",
     "text": [
      "['x_0_0', 'x_0_1', 'x_0_2', 'x_1_0', 'x_1_1', 'x_1_2', 'x_2_0', 'x_2_1', 'x_2_2']\n"
     ]
    }
   ],
   "source": [
    "#Exercise 1.2 \n",
    "#fill in the missing code, wherever ## is\n",
    "\n",
    "#We initialize the variables to create our QUBO\n",
    "from docplex.mp.model import Model\n",
    "mdl = Model()\n",
    "b=N ##\n",
    "\n",
    "\n",
    "varlist=[]\n",
    "for i in range(0,b):\n",
    "    for j in range(0,b):\n",
    "        varlist.append('x_'+str(i)+'_'+str(j))\n",
    "\n",
    "\n",
    "for i in varlist:\n",
    "    locals()[i] = mdl.binary_var(i)\n",
    "    \n",
    "print(varlist)"
   ]
  },
  {
   "cell_type": "markdown",
   "metadata": {},
   "source": [
    "# QUBO Formulation\n",
    "\n",
    "#### Motivation:\n",
    "We need to create an objective QUBO formulation for our TSP instance. The minimum of this expression should represent the optimal solution to our TSP. Our objective will consist of three terms \n",
    "$$H=AH1+AH2+BH3,$$ \n",
    "where $A$ and $B$ are weighting factors. We will begin with the necessary constraints to guarantee a feasible solution to our problem ($H1$ and $H2$), then we will finish with the cost to be minimized ($H3$).\n",
    "\n",
    "#### H1\n",
    "Our first constraint ensures that every vertex can only appear once in a cycle, this punishes each time a vertex does not appear or appears more than once in the ordering.\n",
    "$$H1 = \\sum\\limits_{i=0}^{N-1} (1-\\sum\\limits_{j=0}^{N-1} x_{i,j})^2.$$\n",
    "\n",
    "\n"
   ]
  },
  {
   "cell_type": "code",
   "execution_count": 3,
   "metadata": {},
   "outputs": [
    {
     "name": "stdout",
     "output_type": "stream",
     "text": [
      "x_0_0^2+2x_0_0*x_0_1+2x_0_0*x_0_2+x_0_1^2+2x_0_1*x_0_2+x_0_2^2+x_1_0^2+2x_1_0*x_1_1+2x_1_0*x_1_2+x_1_1^2+2x_1_1*x_1_2+x_1_2^2+x_2_0^2+2x_2_0*x_2_1+2x_2_0*x_2_2+x_2_1^2+2x_2_1*x_2_2+x_2_2^2-2x_0_0-2x_0_1-2x_0_2-2x_1_0-2x_1_1-2x_1_2-2x_2_0-2x_2_1-2x_2_2+3\n"
     ]
    }
   ],
   "source": [
    "#Exercise 1.3,\n",
    "#fill in the missing code, wherever ## is\n",
    "\n",
    "#Here we create our H1 term\n",
    "H1=0\n",
    "for i in range(0,N):\n",
    "    s=1\n",
    "    for j in range(0,N):\n",
    "        s=s-eval('x_'+str(i)+'_'+str(j))\n",
    "    s=s**2 ## \n",
    "    H1=H1+s\n",
    "\n",
    "print(H1)"
   ]
  },
  {
   "cell_type": "markdown",
   "metadata": {},
   "source": [
    "#### H2\n",
    "For every position in the ordering one vertex must be visited, this punishes each time no vertices or more than one vertex are visited for each position in the ordering.\n",
    "$$H2 = \\sum\\limits_{j=0}^{N-1} (1-\\sum\\limits_{i=0}^{N-1} x_{i,j})^2.$$"
   ]
  },
  {
   "cell_type": "code",
   "execution_count": 4,
   "metadata": {},
   "outputs": [
    {
     "name": "stdout",
     "output_type": "stream",
     "text": [
      "x_0_0^2+2x_0_0*x_1_0+2x_0_0*x_2_0+x_0_1^2+2x_0_1*x_1_1+2x_0_1*x_2_1+x_0_2^2+2x_0_2*x_1_2+2x_0_2*x_2_2+x_1_0^2+2x_1_0*x_2_0+x_1_1^2+2x_1_1*x_2_1+x_1_2^2+2x_1_2*x_2_2+x_2_0^2+x_2_1^2+x_2_2^2-2x_0_0-2x_0_1-2x_0_2-2x_1_0-2x_1_1-2x_1_2-2x_2_0-2x_2_1-2x_2_2+3\n"
     ]
    }
   ],
   "source": [
    "#Exercise 1.4,\n",
    "#fill in the missing code, wherever ## is\n",
    "\n",
    "#Here we create our H2 term\n",
    "\n",
    "H2=0\n",
    "for j in range(0,N):\n",
    "    s=1  ## \n",
    "    for i in range(0,N):\n",
    "        s=s-eval('x_'+str(i)+'_'+str(j))\n",
    "    s=s**2\n",
    "    H2=H2+s  ## \n",
    "    \n",
    "print(H2)"
   ]
  },
  {
   "cell_type": "markdown",
   "metadata": {},
   "source": [
    "#### H3\n",
    "This term minimizes the sum of the weights of the tour. $D_{u,v}$ is the entry in $D$ corresponding to the edge weight between vertices $u$ and $v$. The expression in parentheses equals 1 when an edge exists between vertices $u$ and $v$, and 0 otherwise.\n",
    "$$H2 = \\sum\\limits_{u=0}^{N-1} \\sum\\limits_{v=0}^{N-1} D_{u,v}(\\sum\\limits_{j=0}^{N-1} x_{u,j}*x_{v,j+1}).$$\n"
   ]
  },
  {
   "cell_type": "code",
   "execution_count": 5,
   "metadata": {},
   "outputs": [
    {
     "name": "stdout",
     "output_type": "stream",
     "text": [
      "48x_0_0*x_1_1+48x_0_0*x_1_2+91x_0_0*x_2_1+91x_0_0*x_2_2+48x_0_1*x_1_0+48x_0_1*x_1_2+91x_0_1*x_2_0+91x_0_1*x_2_2+48x_0_2*x_1_0+48x_0_2*x_1_1+91x_0_2*x_2_0+91x_0_2*x_2_1+63x_1_0*x_2_1+63x_1_0*x_2_2+63x_1_1*x_2_0+63x_1_1*x_2_2+63x_1_2*x_2_0+63x_1_2*x_2_1\n"
     ]
    }
   ],
   "source": [
    "#Exercise 1.5,\n",
    "#fill in the missing code, wherever ## is\n",
    "\n",
    "#Here we create our H3 term\n",
    "H3=0\n",
    "for u in range(0,N):\n",
    "    for v in range(0,N):\n",
    "        w=D[u,v]\n",
    "        if w!=0:\n",
    "            s=0\n",
    "            for j in range(0,N):\n",
    "                s=s+(eval('x_'+str(u)+'_'+str(j))*eval('x_'+str(v)+'_'+str((j+1)%N)))\n",
    "            s=w*s ##\n",
    "            H3=H3+s ## \n",
    "            \n",
    "print(H3)            "
   ]
  },
  {
   "cell_type": "markdown",
   "metadata": {},
   "source": [
    "Now we need to determine our weighting factors $A$ and $B$. We need $B$ to be smaller than $A$ so that it is never favorable to violate the $H1$ and $H2$ constraints in order to greater satisfy the $H3$ constraint. This is because $H1$ and $H2$ ensure we have a feasible solution, whereas $H3$ drives down the cost of our tour. If we prioritize $H3$ over $H1$ and $H2$ we could end up with an infeasible solution."
   ]
  },
  {
   "cell_type": "code",
   "execution_count": 6,
   "metadata": {},
   "outputs": [],
   "source": [
    "#Exercise 1.6,\n",
    "#fill in the missing code, wherever ## is\n",
    "\n",
    "#Determine the weighting factors\n",
    "A=100 ##\n",
    "B=1 ##\n",
    "\n",
    "#Answer: many possible answers, correct as long as 0< B*max(Duv)< A, which for this instance max(Duv)=91\n",
    "#so as long as 0< B*91< A, the answer is correct. For example, A=100 and B=1 works"
   ]
  },
  {
   "cell_type": "code",
   "execution_count": 7,
   "metadata": {},
   "outputs": [
    {
     "name": "stdout",
     "output_type": "stream",
     "text": [
      "200x_0_0^2+200x_0_0*x_0_1+200x_0_0*x_0_2+200x_0_0*x_1_0+48x_0_0*x_1_1+48x_0_0*x_1_2+200x_0_0*x_2_0+91x_0_0*x_2_1+91x_0_0*x_2_2+200x_0_1^2+200x_0_1*x_0_2+48x_0_1*x_1_0+200x_0_1*x_1_1+48x_0_1*x_1_2+91x_0_1*x_2_0+200x_0_1*x_2_1+91x_0_1*x_2_2+200x_0_2^2+48x_0_2*x_1_0+48x_0_2*x_1_1+200x_0_2*x_1_2+91x_0_2*x_2_0+91x_0_2*x_2_1+200x_0_2*x_2_2+200x_1_0^2+200x_1_0*x_1_1+200x_1_0*x_1_2+200x_1_0*x_2_0+63x_1_0*x_2_1+63x_1_0*x_2_2+200x_1_1^2+200x_1_1*x_1_2+63x_1_1*x_2_0+200x_1_1*x_2_1+63x_1_1*x_2_2+200x_1_2^2+63x_1_2*x_2_0+63x_1_2*x_2_1+200x_1_2*x_2_2+200x_2_0^2+200x_2_0*x_2_1+200x_2_0*x_2_2+200x_2_1^2+200x_2_1*x_2_2+200x_2_2^2-400x_0_0-400x_0_1-400x_0_2-400x_1_0-400x_1_1-400x_1_2-400x_2_0-400x_2_1-400x_2_2+600\n"
     ]
    }
   ],
   "source": [
    "#Exercise 1.7,\n",
    "#fill in the missing code, wherever ## is\n",
    "\n",
    "#Our final hamiltonian is...\n",
    "H=(A*H1)+(A*H2)+(B*H3) ##\n",
    "print(H)"
   ]
  },
  {
   "cell_type": "markdown",
   "metadata": {},
   "source": [
    "With the objective, $H$, we created above, we now have our QUBO formulation that can be used in quantum algorithms, like QAOA or VQE, to find a solution to our TSP. Many combinatorial optimization problems can be written as QUBOs and solved/approximated with quantum algorithms. "
   ]
  },
  {
   "cell_type": "code",
   "execution_count": 14,
   "metadata": {},
   "outputs": [
    {
     "data": {
      "text/plain": [
       "\\ This file has been generated by DOcplex\n",
       "\\ ENCODING=ISO-8859-1\n",
       "\\Problem name: docplex_model1\n",
       "\n",
       "Minimize\n",
       " obj: - 400 x_0_0 - 400 x_0_1 - 400 x_0_2 - 400 x_1_0 - 400 x_1_1 - 400 x_1_2\n",
       "      - 400 x_2_0 - 400 x_2_1 - 400 x_2_2 + [ 400 x_0_0^2 + 400 x_0_0*x_0_1\n",
       "      + 400 x_0_0*x_0_2 + 400 x_0_0*x_1_0 + 96 x_0_0*x_1_1 + 96 x_0_0*x_1_2\n",
       "      + 400 x_0_0*x_2_0 + 182 x_0_0*x_2_1 + 182 x_0_0*x_2_2 + 400 x_0_1^2\n",
       "      + 400 x_0_1*x_0_2 + 96 x_0_1*x_1_0 + 400 x_0_1*x_1_1 + 96 x_0_1*x_1_2\n",
       "      + 182 x_0_1*x_2_0 + 400 x_0_1*x_2_1 + 182 x_0_1*x_2_2 + 400 x_0_2^2\n",
       "      + 96 x_0_2*x_1_0 + 96 x_0_2*x_1_1 + 400 x_0_2*x_1_2 + 182 x_0_2*x_2_0\n",
       "      + 182 x_0_2*x_2_1 + 400 x_0_2*x_2_2 + 400 x_1_0^2 + 400 x_1_0*x_1_1\n",
       "      + 400 x_1_0*x_1_2 + 400 x_1_0*x_2_0 + 126 x_1_0*x_2_1 + 126 x_1_0*x_2_2\n",
       "      + 400 x_1_1^2 + 400 x_1_1*x_1_2 + 126 x_1_1*x_2_0 + 400 x_1_1*x_2_1\n",
       "      + 126 x_1_1*x_2_2 + 400 x_1_2^2 + 126 x_1_2*x_2_0 + 126 x_1_2*x_2_1\n",
       "      + 400 x_1_2*x_2_2 + 400 x_2_0^2 + 400 x_2_0*x_2_1 + 400 x_2_0*x_2_2\n",
       "      + 400 x_2_1^2 + 400 x_2_1*x_2_2 + 400 x_2_2^2 ]/2 + 600\n",
       "Subject To\n",
       "\n",
       "Bounds\n",
       " 0 <= x_0_0 <= 1\n",
       " 0 <= x_0_1 <= 1\n",
       " 0 <= x_0_2 <= 1\n",
       " 0 <= x_1_0 <= 1\n",
       " 0 <= x_1_1 <= 1\n",
       " 0 <= x_1_2 <= 1\n",
       " 0 <= x_2_0 <= 1\n",
       " 0 <= x_2_1 <= 1\n",
       " 0 <= x_2_2 <= 1\n",
       "\n",
       "Binaries\n",
       " x_0_0 x_0_1 x_0_2 x_1_0 x_1_1 x_1_2 x_2_0 x_2_1 x_2_2\n",
       "End"
      ]
     },
     "execution_count": 14,
     "metadata": {},
     "output_type": "execute_result"
    }
   ],
   "source": [
    "from qiskit_optimization.translators import from_docplex_mp\n",
    "from qiskit_optimization import QuadraticProgram\n",
    "\n",
    "objective = H\n",
    "mdl.minimize(objective)\n",
    "qp = QuadraticProgram()\n",
    "qp=from_docplex_mp(mdl)      \n",
    "\n",
    "qp"
   ]
  },
  {
   "cell_type": "code",
   "execution_count": null,
   "metadata": {},
   "outputs": [],
   "source": []
  }
 ],
 "metadata": {
  "interpreter": {
   "hash": "051a824ac26c72aaef341e71ec2893c0085d15a14e2311a466a88195d0e3273c"
  },
  "kernelspec": {
   "display_name": "Python 3",
   "language": "python",
   "name": "python3"
  },
  "language_info": {
   "codemirror_mode": {
    "name": "ipython",
    "version": 3
   },
   "file_extension": ".py",
   "mimetype": "text/x-python",
   "name": "python",
   "nbconvert_exporter": "python",
   "pygments_lexer": "ipython3",
   "version": "3.8.8"
  }
 },
 "nbformat": 4,
 "nbformat_minor": 2
}
