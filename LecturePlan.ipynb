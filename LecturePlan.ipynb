{
 "cells": [
  {
   "cell_type": "markdown",
   "id": "59b74471",
   "metadata": {},
   "source": [
    "# Lecture plan: Quantum Quickstarter for industry\n",
    "\n",
    "Here we present the lecture structure for the \"Quantum quickstarter for industry\"! This is a lecture geared towards industry professionals to make their business quantum ready. Here, we assume a technical audience with background knowledge in Linear Algebra.\n",
    "\n",
    "The goal of this lecture is to show industry professionals potential applications of quantum computing in their business geared towards optimization. We focus on an example usecase of a Knapsack formulation for a packaging usecase and conclude with a homework assignment on a traveling salesperson instance.\n",
    "\n",
    "#### This project contains:\n",
    "- This LecturePlan.pdf\n",
    "- \"lecture_notes.ipynb\" JupyterNotebook (main document including exercises)\n",
    "- \"Usecase_story.pptx\" Powerpoint (introduction to the story)\n",
    "- \"homework_tsp.ipynb\" JupyterNotebook (homework)\n",
    "\n",
    "- \"Exercises.pdf\" PDF (concise summary of exercises and homework)\n",
    "- \"Solutions.pdf\" PDF (solutions to exercises and homework)\n",
    "\n",
    "Team: Matthias, Lilly, Max, Aubrey & Tammo"
   ]
  },
  {
   "cell_type": "markdown",
   "id": "cbb77cd9",
   "metadata": {},
   "source": [
    "## Table of contents\n",
    "\n",
    "1. Introduction and Overview (5min.)\n",
    "2. Theory Part (5-10min.)\n",
    "3. Guided Learning on an industry usecase with exercises (30min.)\n",
    "4. Homework and Further Reading"
   ]
  },
  {
   "cell_type": "markdown",
   "id": "555e671e",
   "metadata": {},
   "source": [
    "## 1 Introduction and Overview (5 min.)\n",
    "\n",
    "Welcome to the lecture \"Quantum quickstarter for industry\", the lecture for industry education on Quantum. In the next 50 Minutes we would like to introduce you as industry profesionalls to the World of Quantum. \n",
    "To this end we formulated the following Learning goals\n",
    "- Understand and evaluate the potential applications and usecases of Quantum\n",
    "- Map real life optimization problems in your business to a Quantum Algorithm\n",
    "- Get to know Qiskit as a powerful tool to build and execute quantum algorithms\n",
    "\n",
    "First we start with a brief introduction and Overview, then we go to a consise theory part followed by a learning exercise in the field of optimization that will be solved together ending with a discussion. Lastly, we hand out a homework assigment testing their learnings for another use case. We finish with an outlook to give a perspective on the World of Quantum.\n",
    "\n",
    "Quantum computing (QC) is a computational plattform that gained public attention in the last 5 years. QC can potentially solve certain computational problems (e.g. selected optimization problems) a lot faster and more accurate than classical computers. How to find these certain problems and how to formulate them in order to run them on a QC will be the focus of this course.\n"
   ]
  },
  {
   "cell_type": "markdown",
   "id": "6c9c6f72",
   "metadata": {},
   "source": [
    "## 2 Theory Part (5-10 min.)\n",
    "\n",
    "Now, go over a brief theory section which explains the basic concepts of QC. Since this course is geared towards application we have ressources for further reading to gain a more in depth understanding of QC. \n",
    "\n",
    "Bullet points of lecture contents:\n",
    "\n",
    "- QC as a computational device that takes input, processes information with gates and delivers and output\n",
    "- Difference between Qbit and Bit\n",
    "- Qiskit as the QC tool of choice\n",
    "- Main features of Qbits (Superposition and Entanglement) to realize advanced algortihms\n",
    "- NISQ era: Noisy Intermediate quantum scale quantum ear.\n",
    "\n",
    "\n",
    "Further reading:\n",
    "- Qiskit Textbook Introduction: https://qiskit.org/textbook/ch-states/introduction.html\n",
    "- Qiskit Lectures on Youtube: https://www.youtube.com/watch?v=Rs2TzarBX5I&list=PLOFEBzvs-VvrXTMy5Y2IqmSaUjfnhvBHR"
   ]
  },
  {
   "cell_type": "markdown",
   "id": "362508fc",
   "metadata": {},
   "source": [
    "## 3 Guided Learning on an industry usecase with exercises (35 min.)"
   ]
  },
  {
   "attachments": {},
   "cell_type": "markdown",
   "id": "fd9d1709",
   "metadata": {},
   "source": [
    "<img src=\"PowerPoint.PNG\" width=\"50\" height=\"50\" align=\"left\" style=\"padding-right: 100px;\"/>\n",
    "   First we go to the Power Point \"Usecase_story.pptx\" to introduce the Industry usecase.\n",
    "   "
   ]
  },
  {
   "cell_type": "markdown",
   "id": "27439749",
   "metadata": {},
   "source": [
    "<img src=\"image_thumb-27.PNG\" width=\"50\" height=\"50\" align=\"left\"/>\n",
    "   Second we go to the Jupyter notebook \"lecture_notes.ipynb\". This notebook contains the full walk-through, the learning exercises and also the test exercises.\n",
    "   "
   ]
  },
  {
   "cell_type": "markdown",
   "id": "c88b843c",
   "metadata": {},
   "source": [
    "A first glimpse of what you will see in the usecases! :)\n",
    "\n",
    "<img src=\"Usecase.PNG\" width=\"350\" height=\"350\" align=\"left\"/>\n",
    "\n",
    "<img src=\"pexels-pixabay-40879.jpg\" width=\"350\" height=\"350\" align=\"left\"/>\n"
   ]
  },
  {
   "cell_type": "markdown",
   "id": "3692c37b",
   "metadata": {},
   "source": [
    "## 4 Homework and Further Reading\n",
    "\n",
    "The homework exercise is located in the Jupyter notebook \"homework_tsp.ipynb\". \n",
    "\n",
    "For further reading see the links below! :)\n",
    "\n",
    "Further reading and ressources:\n",
    "- Qiskit Lectures on Youtube: https://www.youtube.com/watch?v=Rs2TzarBX5I&list=PLOFEBzvs-VvrXTMy5Y2IqmSaUjfnhvBHR\n",
    "- IBM Quantum industry Case Studies: https://www.ibm.com/quantum-computing/case-studies\n",
    "- Quantum Computing Industry Overview: https://quantumcomputingreport.com/\n",
    "- Quantum hardware: Qiskit Metal https://qiskit.org/metal/\n",
    "- Quantum hardware Youtube Lectures: https://www.youtube.com/watch?v=AqoKpUDchYo&list=PL5jmbd6SJYnPiYlM6pHAm2M3FL40D9otZ\n",
    "- To ask questions: Qiskit Slack Channel: https://developer.ibm.com/blogs/join-quantum-community/\n",
    "- To ask questions: Quantum Stack Exchange: https://quantumcomputing.stackexchange.com/\n",
    "- Scott aaronson Blog https://www.scottaaronson.com/\n",
    "- Overview on Quantum Algorithms: https://arxiv.org/abs/1511.04206\n",
    "- Mitigating the quantum hype: https://arxiv.org/ftp/arxiv/papers/2202/2202.01925.pdf"
   ]
  },
  {
   "cell_type": "code",
   "execution_count": null,
   "id": "ae6f357c",
   "metadata": {},
   "outputs": [],
   "source": []
  }
 ],
 "metadata": {
  "kernelspec": {
   "display_name": "Python 3 (ipykernel)",
   "language": "python",
   "name": "python3"
  },
  "language_info": {
   "codemirror_mode": {
    "name": "ipython",
    "version": 3
   },
   "file_extension": ".py",
   "mimetype": "text/x-python",
   "name": "python",
   "nbconvert_exporter": "python",
   "pygments_lexer": "ipython3",
   "version": "3.9.7"
  }
 },
 "nbformat": 4,
 "nbformat_minor": 5
}
