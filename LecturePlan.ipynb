{
 "cells": [
  {
   "cell_type": "markdown",
   "id": "59b74471",
   "metadata": {},
   "source": [
    "# Lecture plan: Quantum Quick start\n",
    "\n",
    "Here we present the lecture notes for the \"Quantum quick start\"! This is a lecture geared towards industry professionals to make their business quantum ready. Here, we assume a techical audience with background knowledge in Linear Algebra.\n",
    "\n",
    "The goal of this lecture is to show industry professionals potential applications of quantum computing in their business geared towards optimization. We focus on an example usecase of a Knapsack formulation for a packaging usecase.\n",
    "\n",
    "#### This project contains:\n",
    "- This LecturePlan.pdf\n",
    "- \"LearningExercise\" JupyterNotebook (main document)\n",
    "- \"TestExercise\" JupyterNotebook (homework)\n",
    "- \"PowerPoint\" as introduction to the story\n",
    "\n",
    "- \"FullExerciseSheet\" only the exercise without the lecture\n",
    "- \"FullExerciseSheetSolution\" all exercises with solutions\n",
    "\n",
    "Team: Matthias, Lilly, Max, Aubrey & Tammo"
   ]
  },
  {
   "cell_type": "markdown",
   "id": "cbb77cd9",
   "metadata": {},
   "source": [
    "## Table of contents\n",
    "\n",
    "1. Introduction and Overview (5min.)\n",
    "2. Theory Part (5-10min.)\n",
    "3. Guided Learning on an industry usecase with exercises (30min.)\n",
    "4. Outlook and guidlines for the Quantum (r)evolution ahead (5min.)\n",
    "5. Homework and Further Reading"
   ]
  },
  {
   "cell_type": "markdown",
   "id": "555e671e",
   "metadata": {},
   "source": [
    "## 1 Introduction and Overview (5 min.)\n",
    "\n",
    "Welcome to the lecture \"Quantum Quick start\", the lecture for industry education on Quantum. In the next 60 Minutes we would like to introduce you as industry profesionalls to the World of Quantum. \n",
    "To this end we formulated the following Learning goals\n",
    "- Understand and evaluate the potential applications and usecases of Quantum\n",
    "- Map real life optimization problems in your business to a Quantum Algorithm\n",
    "- Get to know Qiskit as a powerful tool to build and execute quantum algorithms\n",
    "\n",
    "First we start with a brief introduction and Overview, then we go to a conceise theory part followed by a learning execsise in the area of Optimization that will be solved together ending with a discussion. Lastly, we conduct and discuss a test exercise. We finish with an outlook to give you a perspective on the World of Quantum.\n",
    "\n",
    "Quantum computing is a computational plattform that gained tracktion in the last 5 to 10 years. QC promises to solve certain computational problems (eg. selected optimization problems) a lot faster and more accurate than classical computers. How to find these certain problems and how to formulate them in order to run them on a QC will be the focus of this course\n"
   ]
  },
  {
   "cell_type": "markdown",
   "id": "6c9c6f72",
   "metadata": {},
   "source": [
    "## 2 Theory Part (5-10 min.)\n",
    "\n",
    "Now, go over a brief theory section which explains the basic concepts of Quantum computing. Since this course is geared towards application we have ressources for further reading to gain a more in depth understanding of Quantum computation. \n",
    "\n",
    "Bullet points of lecture contents:\n",
    "\n",
    "- QC as a computational device that takes input, processes information with gates and delivers and output\n",
    "- Difference between Qbit and Bit\n",
    "- Qiskit as the Quantum computing tool of choice\n",
    "- Using Qiskit to access real Quantum hardware in the IBM labs over the clouds\n",
    "- Using the main differences of Qbits (Superposition and Entanglement) to realize advanced algortihms\n",
    "- Mentioning the NISQ ear: Noisy Intermediate quantum scale quantum ear.\n",
    "\n",
    "\n",
    "Further reading:\n",
    "- Qiskit Textvook Introduction: https://qiskit.org/textbook/ch-states/introduction.html\n",
    "- Qiskit Lectures on Youtube: https://www.youtube.com/watch?v=Rs2TzarBX5I&list=PLOFEBzvs-VvrXTMy5Y2IqmSaUjfnhvBHR"
   ]
  },
  {
   "cell_type": "markdown",
   "id": "362508fc",
   "metadata": {},
   "source": [
    "## 3 Guided Learning on an industry usecase with exercises (30 min.)\n",
    "\n",
    "We go over to the exercise jupyter notebook called \"Exercises\". Here, we start the story line!\n",
    "\n",
    "This notebook contains Learning exercises as well as Test exercises in the context of an industry usecase."
   ]
  },
  {
   "cell_type": "markdown",
   "id": "c88b843c",
   "metadata": {},
   "source": [
    "## 4 Wrap-up and guidlines for the Quantum (r)evolution ahead (5min.)"
   ]
  },
  {
   "cell_type": "markdown",
   "id": "3692c37b",
   "metadata": {},
   "source": [
    "## 5 Homework and Further Reading\n",
    "\n",
    "The homework exercise is located in the \"HomeworkExercise\" Jupyter notebook. \n",
    "\n",
    "For further reading see the links below! :)\n",
    "\n",
    "Further reading and ressources:\n",
    "- Qiskit Lectures on Youtube: https://www.youtube.com/watch?v=Rs2TzarBX5I&list=PLOFEBzvs-VvrXTMy5Y2IqmSaUjfnhvBHR\n",
    "- IBM Quantum industry Case Studies: https://www.ibm.com/quantum-computing/case-studies\n",
    "- Quantum Computing Industry Overview: https://quantumcomputingreport.com/\n",
    "- Quantum hardware: Qiskit Metal https://qiskit.org/metal/\n",
    "- Quantum hardware Youtube Lectures: https://www.youtube.com/watch?v=AqoKpUDchYo&list=PL5jmbd6SJYnPiYlM6pHAm2M3FL40D9otZ\n",
    "- To ask questions: Qiskit Slack Channel: https://developer.ibm.com/blogs/join-quantum-community/\n",
    "- To ask questions: Quantum Stack Exchange: https://quantumcomputing.stackexchange.com/\n",
    "- Scott aaronson Blog https://www.scottaaronson.com/\n",
    "- Overview on Quantum Algorithms: https://arxiv.org/abs/1511.04206\n",
    "- Mitigating the quantum hype: https://arxiv.org/ftp/arxiv/papers/2202/2202.01925.pdf"
   ]
  },
  {
   "cell_type": "code",
   "execution_count": null,
   "id": "ae6f357c",
   "metadata": {},
   "outputs": [],
   "source": []
  }
 ],
 "metadata": {
  "kernelspec": {
   "display_name": "Python 3 (ipykernel)",
   "language": "python",
   "name": "python3"
  },
  "language_info": {
   "codemirror_mode": {
    "name": "ipython",
    "version": 3
   },
   "file_extension": ".py",
   "mimetype": "text/x-python",
   "name": "python",
   "nbconvert_exporter": "python",
   "pygments_lexer": "ipython3",
   "version": "3.9.7"
  }
 },
 "nbformat": 4,
 "nbformat_minor": 5
}
