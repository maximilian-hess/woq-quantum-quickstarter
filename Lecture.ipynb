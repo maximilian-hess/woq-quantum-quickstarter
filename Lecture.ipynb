{
 "cells": [
  {
   "cell_type": "markdown",
   "metadata": {},
   "source": [
    "## Introduction and transition from the slides\n",
    "\n",
    "### Exercise 1 \n",
    "Try different configurations for packing the knapsack/choosing the customer orders. Try to maximize the total value while not violating the constraint.\n",
    "(possibly insert knapsack game here?!)"
   ]
  },
  {
   "cell_type": "markdown",
   "metadata": {},
   "source": [
    "# Knapsack Problem\n",
    "\n",
    "## rewrite this section to make transition from slides\n",
    "Consider the following problem: You are a thief on a run, and you have to flee your home as fast as you can. The only way to carry your stolen goods is via a backpack limited to carrying 15 kg. You have stolen 5 items over the days, each with a specific weight and a specific value. You can't pack all of them, and of course want to carry as much total value in your backpack as possible. Thus, you have to make a choice: Which items do you pack into your backpack?\n",
    "\n",
    "Generalizing, you are faced with the following optimization problem:\n",
    "\n",
    "You have a finite set of items $U$, a weight-function $w: U\\rightarrow \\mathbb{R}$ and a value-function $v: U\\rightarrow \\mathbb{R}$. Further, you have a weight limit of $C\\in\\mathbb{R}$.\n",
    "You are now searching for the subset $K\\subseteq U$ with:\n",
    "\n",
    "max $\\sum_{u\\in K}v(u)$\n",
    "\n",
    "st. $\\sum_{u\\in K}w(u)\\leq C$.\n",
    "\n",
    "Reformulated as QUBO (quadratic constraint binary optimization) problem for supply chain (only supply, hence weights and values must be positive) you get ($i\\in\\{0,1,...,n\\}$, item $x_i\\in\\{0,1\\}$, weight $w_i\\in\\mathbb{R}_+$, value $v_i\\in\\mathbb{R}_+$, capacity $C\\in\\mathbb{R}_+$):\n",
    "\n",
    "max $\\sum_{i=1}^n v_ix_i$\n",
    "\n",
    "st. $\\sum_{u\\in K}w_ix_i\\leq C$\n",
    "\n",
    "$x\\in\\{0,1\\}^n$."
   ]
  },
  {
   "cell_type": "markdown",
   "metadata": {},
   "source": [
    "# Quantum Knapsack\n",
    "\n",
    "#### Motivation:\n",
    "A good starting point for a useful quantum application is to identify problems that boil down to classical complexity classes that are known to be hard to solve. Given that the exact complexity class of quantum computers is yet unclear, but larger than of classical computers, it seems promising to tackle such classical hard problems. The knapsack or traveling salesman problem are such examples. They are NP-complete and very hard to find good approximate solutions for. In order to use a possible quantum advantage, the encoding of the problem in a quantum mechanical and useful way is key. One approach taken in many optimisation problems is, to encode the solution of a problem into the lowest energystate of a quantum mechanical system. The quantum mechanical system of choice will be a spin-system (qubit-system) known as Ising Model.\n",
    "\n",
    "#### Encoding the Knapsack problem\n",
    "One approach is to encode the knapsack problem into a QUBO, which we can then map to an Ising Model that has as minimal energy the optimal solution of the knapsack problem.\n",
    "\n",
    "As first step we should encode our main objective to maximize the value of items packed into the lowest energy state of our QUBO. As mentioned before, the bitstring $x\\in\\{0,1\\}^n$ describes us either packing an item (1) or not (0) (e.g. only the first item is packed results in $v_1x_1=v_1$). We therefor end up with \n",
    "$$E=-\\sum_i v_i x_i,$$ \n",
    "to encode the maximization.\n",
    "\n",
    "Next, we want to add the constraint of staying within the total capacity $C$ of our knapsack. As a first approach, one might think of encoding the constraint $\\sum_i w_ix_i\\leq C$ as a penalty term:\n",
    "\n",
    "$$E_{\\text{penalty}}=A(\\sum_i w_ix_i -C)^2.$$\n",
    "\n",
    "The problem with this encoding is, that we penalize packing more than $C$ just as packing less than $C$. This is a problem, since there are many configurations in which the optimal configuration does not exactly fill the backpack. We are thus wrongly penalizing and are limiting our problem by using this simplification. To resolve this, we can introduce a helper variable $y_n$ for $1\\leq n\\leq C$. Its role is to be $1$ if the total capacity of the items in the knapsack is $n$, and $0$ otherwise. As a result, the sum of all the capacities for the items selected must equal the total capacity of the items (every binary variable $y_n$ is 0, except for the one corresponding to the total capacity):\n",
    "\n",
    "$$\\sum_i w_ix_i=\\sum_n ny_n.$$\n",
    "\n",
    "The adjusted penalty term is thus:\n",
    "\n",
    "$$E_{penalty_1} = A (\\sum_i w_i x_i -\\sum_n n y_n)^2.$$\n",
    "\n",
    "Now we only add a penalty if the relation is not satisfied, but do not add anything if it is (having reached the optimal configuration with the corresponding total capacity). Since $y_n$ is $1$ if the total capacity of the items in the knapsack is $n$ and $0$ otherwise, as the last part we have to include the constraint $\\sum_n y_n =1$. Similar to before, we can simply encode this via\n",
    "$$E_{penalty_2} = A(1-\\sum_n y_n)^2.$$\n",
    "\n",
    "Combining all three terms, we have found a possible energy-encoding of the knapsack problem:\n",
    "\n",
    "$$E = A(1-\\sum_n y_n)^2+A(\\sum_i w_ix_i-\\sum_n ny_n)^2-\\sum_i c_ix_i.$$\n",
    "\n",
    "If we have $N$ items and a maximal total capacity of $C$, the needed number of qubits simply scale linear with:\n",
    "\n",
    "$$\\#\\text{number of qubits} = N + ⌈C⌉.$$\n",
    "\n",
    "As a last step we can map this QUBO formulation to an Ising-Model using the simple trick of\n",
    "$$\n",
    "Z_i\\vert x \\rangle = (-1)^{x_i}  \\vert x \\rangle = \\left( 1-2x_i \\right) \\vert x \\rangle \\implies x_i \\vert x \\rangle = \\frac{\\mathbb{I}-Z_i}{2}\\vert x \\rangle,\n",
    "$$\n",
    "where $\\mathbb{I}$ denotes the unit operator and $Z_i$ the Pauli-Z matrix for qubit $i$. We can thus rewrite our found QUBO formulation as a sum of Pauli-Z operators. As we will see, we can use Qiskits Quadratic Program class to do this for us.\n",
    "\n",
    "\n",
    "\n",
    "### Test exercise (after the course)\n",
    "\n",
    "Go to the TSP notebook and try to come up with a QUBO formulation yourself.\n",
    "\n",
    "### Exercise 2\n",
    "How would you choose the weighting factor $A$ for the penalty term? Choose from\n",
    "\n",
    "1. $A=1$\n",
    "2. $A=7$\n",
    "3. $A=100$\n",
    "\n",
    "and explain your choice."
   ]
  },
  {
   "cell_type": "markdown",
   "metadata": {},
   "source": [
    "## Generate QUBO and Hamiltonian\n",
    "\n",
    "Multiply out goal function.\n",
    "Compare with built-in Knapsack method?!"
   ]
  },
  {
   "cell_type": "markdown",
   "metadata": {},
   "source": [
    "## Variational quantum algorithms\n",
    "\n",
    "Since we have encoded our optimization task into a Hamiltonian, i.e. into physical data, we go to the algorithmic phase. We will implement our QUBO formulation with two different variational quantum algorithms. First, let's import the necessary Qiskit classes, and set up an optimizer and simulator to use."
   ]
  },
  {
   "cell_type": "code",
   "execution_count": 1,
   "metadata": {},
   "outputs": [],
   "source": [
    "import numpy as np\n",
    "import matplotlib.pyplot as plt \n",
    "from qiskit import IBMQ\n",
    "\n",
    "from qiskit.algorithms import QAOA, VQE\n",
    "from qiskit_optimization import QuadraticProgram\n",
    "from qiskit_optimization.algorithms import MinimumEigenOptimizer\n",
    "from qiskit.circuit.library import EfficientSU2\n",
    "from qiskit.algorithms.optimizers import COBYLA\n",
    "from qiskit import Aer\n",
    "\n",
    "#Simulator\n",
    "backend = Aer.get_backend('statevector_simulator')\n",
    "#Optimizer\n",
    "optimizer = COBYLA(maxiter=1000, tol=0.0001)\n",
    "\n",
    "#load the qubo\n",
    "qp = QuadraticProgram()\n",
    "qp.read_from_lp_file('test_knapsack.lp')"
   ]
  },
  {
   "cell_type": "markdown",
   "metadata": {},
   "source": [
    "### TODO:\n",
    "Explanation about variational algorithms\n",
    "\n",
    "We want to find the lowest energy state $\\ket{\\psi^*}$ of a quantum system. The variational method has two steps:\n",
    "- Choose an ansatz or trial state parametrized by $\\theta$: $\\ket{\\psi(\\theta)}$\n",
    "- Vary parameters $\\theta$ to minimize the energy value $E(\\theta)=\\bra{\\psi(\\theta)}H\\ket{\\psi(\\theta)}$ and find: $\\theta^* = \\text{arg}\\min_{\\theta}E(\\theta)$\n",
    "\n",
    "In general we will have multiple parameters to optimize over. We can use a variational quantum eigensolver to optimize these parameters $\\theta_i$ after each execution of the circuit and the measurement \n",
    "$$E_p(\\theta_1,...,\\theta_i)=\\bra{\\theta_1,...,\\theta_i} H\\ket{\\theta_1,...,\\theta_i}.$$\n",
    "\n",
    "\n",
    "One of such variational algorithms is VQE. "
   ]
  },
  {
   "cell_type": "markdown",
   "metadata": {},
   "source": [
    "## VQE"
   ]
  },
  {
   "cell_type": "markdown",
   "metadata": {},
   "source": [
    "... go more into detail and explain VQE ... \n",
    "\n",
    "We can implement and run our QUBO with the Qiskit VQE class."
   ]
  },
  {
   "cell_type": "code",
   "execution_count": 3,
   "metadata": {},
   "outputs": [
    {
     "name": "stdout",
     "output_type": "stream",
     "text": [
      "optimal function value: -11.0\n",
      "optimal value: [1. 0. 1. 1. 0. 0. 0. 0. 1.]\n",
      "status: SUCCESS\n"
     ]
    },
    {
     "name": "stderr",
     "output_type": "stream",
     "text": [
      "/Users/matthiasw/opt/anaconda3/envs/qiskit_cur/lib/python3.9/site-packages/qiskit_optimization/algorithms/optimization_algorithm.py:141: UserWarning: The sum of probability of samples is not close to 1: f{sum_prob}\n",
      "  warn(\"The sum of probability of samples is not close to 1: f{sum_prob}\")\n"
     ]
    }
   ],
   "source": [
    "#VQE\n",
    "form=EfficientSU2(num_qubits=9,su2_gates=['rx', 'z'], entanglement='full', reps=1)\n",
    "vqe_mes=VQE(form,optimizer = optimizer, quantum_instance = backend)\n",
    "\n",
    "# construct Minimum Eigen Optimizer based on QAOA\n",
    "vqe = MinimumEigenOptimizer(vqe_mes)\n",
    "\n",
    "# solve Quadratic Program\n",
    "result = vqe.solve(qp)\n",
    "print(result)"
   ]
  },
  {
   "cell_type": "markdown",
   "metadata": {},
   "source": [
    "## QAOA\n",
    "QAOA (Quantum Approximate Optimization Algorithms) is a circuit inspired by the adiabatic theorem: If the Hamiltonian of a quantum system in its ground state is perturbed slowly enough, the system remains in its ground state.\n",
    "\n",
    "If we have found an encoding of our problem in a Hamiltonian ($H_C$) whose ground state has the problem solution we can thus prepare the quantum system in the ground state of a simple Hamiltonian ($H_M$) and adiabatically evolve the simple Hamiltonian to the problem Hamiltonian (runtime $T$): $$H(t)=\\frac{t}{T}H_C+(1-\\frac{t}{T})H_M.$$\n",
    "The evolution will be made up of two different layers with repetition $p$, which in the limit recover the adiabatic theorem: $$e^{-iH(t)\\Delta t}=e^{-i(\\frac{t}{T}H_C+(1-\\frac{t}{T})H_M)\\Delta t}=\\lim_{p\\to\\infty}\\Big(e^{-i\\gamma H_C}e^{-i\\beta H_M}\\Big)^p,$$ \n",
    "with $\\gamma = (1-\\frac{t}{T})\\Delta t$, $\\beta = \\frac{t}{T}\\Delta t$, and $p\\Delta t=T$. For $p$ layers we end up with $2p$ parameters we have to optimize over in each execution step.\n",
    "\n",
    "Given the noise on current NISQ-devices we will be limited to some number of noisy gates we can apply before all the noise builds up to an amount that the entire QAOA fails. As a result there is a traid off between repetitions $p$ chosen and number of gates we can perform.\n",
    "\n",
    "We can implement and run our QUBO with the Qiskit QAOA class.\n"
   ]
  },
  {
   "cell_type": "code",
   "execution_count": 4,
   "metadata": {},
   "outputs": [
    {
     "name": "stdout",
     "output_type": "stream",
     "text": [
      "optimal function value: -11.0\n",
      "optimal value: [1. 0. 1. 1. 0. 0. 0. 0. 1.]\n",
      "status: SUCCESS\n"
     ]
    }
   ],
   "source": [
    "# construct QAOA and the Minimum Eigen Optimizer\n",
    "qaoa_mes = QAOA(reps=1, optimizer=optimizer, quantum_instance=Aer.get_backend('statevector_simulator'))\n",
    "qaoa = MinimumEigenOptimizer(qaoa_mes)\n",
    "\n",
    "# solve\n",
    "result = qaoa.solve(qp)\n",
    "print(result)"
   ]
  },
  {
   "cell_type": "markdown",
   "metadata": {},
   "source": [
    "As mentioned, on NISQ-devices qubits and gates are subject to noise. This deeply effects the performance of an quantum algorithm. With the help of Qiskit we can set up a simple noise model and observe how our computational states get randomized."
   ]
  },
  {
   "cell_type": "code",
   "execution_count": 5,
   "metadata": {},
   "outputs": [],
   "source": [
    "#Create a basic noise model\n",
    "from qiskit.providers.aer.noise import NoiseModel\n",
    "from qiskit.providers.aer.noise import pauli_error\n",
    "from qiskit.providers.aer.noise import depolarizing_error\n",
    "\n",
    "def get_noise(p_meas, p_reset,p_gate):\n",
    "    error_meas = pauli_error([('X',p_meas), ('I', 1 - p_meas)])\n",
    "    error_reset = pauli_error([('X',p_reset), ('I', 1 - p_reset)])\n",
    "    error_gate1 = depolarizing_error(p_gate, 1)\n",
    "    error_gate2 = error_gate1.tensor(error_gate1)\n",
    "\n",
    "    noise_model = NoiseModel()\n",
    "    noise_model.add_all_qubit_quantum_error(error_meas, \"measure\") # measurement error is applied to measurements\n",
    "    noise_model.add_all_qubit_quantum_error(error_reset, \"reset\") # reset error \n",
    "    noise_model.add_all_qubit_quantum_error(error_gate1, ['h', 'id', 'rz', 'sx', 'x']) # single qubit gate error is applied to x gates\n",
    "    noise_model.add_all_qubit_quantum_error(error_gate2, [\"cx\"]) # two qubit gate error is applied to cx gates\n",
    "        \n",
    "    return noise_model"
   ]
  },
  {
   "cell_type": "code",
   "execution_count": 6,
   "metadata": {},
   "outputs": [
    {
     "name": "stdout",
     "output_type": "stream",
     "text": [
      "Job Status: job has successfully run\n"
     ]
    },
    {
     "data": {
      "image/png": "[encoded data removed]",
      "text/plain": [
       "<Figure size 504x360 with 1 Axes>"
      ]
     },
     "execution_count": 6,
     "metadata": {},
     "output_type": "execute_result"
    }
   ],
   "source": [
    "from qiskit.circuit.library import QAOAAnsatz\n",
    "from qiskit.tools.monitor import job_monitor\n",
    "from qiskit.tools.visualization import plot_histogram\n",
    "from qiskit import transpile\n",
    "from qiskit.visualization import plot_histogram\n",
    "\n",
    "op, offset = qp.to_ising()\n",
    "\n",
    "ansatz = QAOAAnsatz(op, reps = 1)  \n",
    "qc = ansatz.bind_parameters([0.123, 0.432])\n",
    "qc.measure_all()\n",
    "qc_trans = transpile(qc,backend)\n",
    "p = 0.1\n",
    "job = backend.run(qc_trans, noise_model=get_noise(p,p,p), shots = 5000)\n",
    "job_monitor(job)\n",
    "    \n",
    "counts = job.result().get_counts(qc_trans)\n",
    "plot_histogram(counts)"
   ]
  },
  {
   "cell_type": "markdown",
   "metadata": {},
   "source": [
    "Rough Outline:\n",
    "\n",
    "\n",
    "As we can see, noise can ... However, for systematic errors you can apply error mitigation techniques (mitiq)...\n",
    "\n",
    "\n",
    "Besides Noise a basic obstacle with arbitrary QUBO formulations is the structure of the energylandscape. Many energylandscapes challenge classical optimizers with local minima in which to get stuck in. ... add energygap, for slow enough evolution... \n",
    "As an example, let's have a look at the energylandscape of our formulated QUBO. Due to laptop performance, we can only look have a low resolution precomputed landscape. Nevertheless, it illustrates the ..."
   ]
  },
  {
   "cell_type": "code",
   "execution_count": 7,
   "metadata": {},
   "outputs": [
    {
     "data": {
      "application/vnd.plotly.v1+json": {
       "config": {
        "plotlyServerURL": "https://plot.ly"
       },
       "data": [
        {
         "colorscale": [
          [
           0,
           "rgb(247,251,255)"
          ],
          [
           0.125,
           "rgb(222,235,247)"
          ],
          [
           0.25,
           "rgb(198,219,239)"
          ],
          [
           0.375,
           "rgb(158,202,225)"
          ],
          [
           0.5,
           "rgb(107,174,214)"
          ],
          [
           0.625,
           "rgb(66,146,198)"
          ],
          [
           0.75,
           "rgb(33,113,181)"
          ],
          [
           0.875,
           "rgb(8,81,156)"
          ],
          [
           1,
           "rgb(8,48,107)"
          ]
         ],
         "contours": {
          "z": {
           "highlightcolor": "limegreen",
           "project": {
            "z": true
           },
           "show": true,
           "usecolormap": true
          }
         },
         "type": "surface",
         "x": [
          0,
          0.3306939635357677,
          0.6613879270715354,
          0.992081890607303,
          1.3227758541430708,
          1.6534698176788385,
          1.984163781214606,
          2.3148577447503738,
          2.6455517082861415,
          2.9762456718219092,
          3.306939635357677,
          3.6376335988934447,
          3.968327562429212,
          4.29902152596498,
          4.6297154895007475,
          4.960409453036515,
          5.291103416572283,
          5.621797380108051,
          5.9524913436438185,
          6.283185307179586
         ],
         "y": [
          0,
          0.16534698176788384,
          0.3306939635357677,
          0.4960409453036515,
          0.6613879270715354,
          0.8267349088394192,
          0.992081890607303,
          1.1574288723751869,
          1.3227758541430708,
          1.4881228359109546,
          1.6534698176788385,
          1.8188167994467224,
          1.984163781214606,
          2.14951076298249,
          2.3148577447503738,
          2.4802047265182576,
          2.6455517082861415,
          2.8108986900540254,
          2.9762456718219092,
          3.141592653589793
         ],
         "z": [
          [
           310.742,
           315.799,
           315.799,
           315.799,
           315.799,
           315.799,
           315.799,
           315.799,
           315.799,
           315.799,
           315.799,
           315.799,
           315.799,
           315.799,
           315.799,
           315.799,
           315.799,
           315.799,
           315.799,
           310.742
          ],
          [
           315.799,
           322.411,
           370.55,
           349.417,
           310.492,
           276.718,
           329.908,
           353.406,
           363.06,
           277.904,
           319.49,
           361.914,
           362.875,
           313.843,
           302.492,
           330.783,
           381.829,
           352.22,
           322.866,
           315.799
          ],
          [
           315.799,
           329.339,
           383.091,
           360.179,
           325.532,
           312.021,
           334.806,
           378.747,
           350.132,
           313.266,
           314.74,
           353.944,
           378.012,
           343.204,
           320.378,
           349.731,
           371.365,
           375.062,
           343.402,
           315.799
          ],
          [
           315.799,
           308.624,
           347.902,
           338.076,
           309.509,
           300.267,
           348.647,
           360.092,
           340.431,
           322.272,
           313.322,
           338.36,
           352.916,
           329.016,
           304.149,
           348.301,
           340.257,
           351.205,
           327.14,
           315.799
          ],
          [
           315.799,
           318.658,
           337.001,
           352.377,
           321.84,
           317.219,
           347.613,
           379.762,
           334.512,
           300.741,
           305.41,
           314.277,
           378.444,
           340.488,
           304.239,
           303.926,
           374.329,
           368.156,
           328.84,
           315.799
          ],
          [
           315.799,
           322.246,
           335.373,
           323.207,
           253.928,
           301.006,
           369.766,
           343.068,
           331.646,
           290.967,
           317.248,
           324.711,
           333.394,
           299.264,
           307.654,
           338.977,
           374.058,
           342.445,
           317.83,
           315.799
          ],
          [
           315.799,
           322.888,
           307.827,
           328.158,
           296.481,
           284.842,
           337.394,
           324.878,
           303.832,
           290.774,
           305.882,
           317.496,
           313.791,
           300.123,
           304.322,
           302.953,
           317.912,
           316.443,
           291.939,
           315.799
          ],
          [
           315.799,
           304.863,
           283.759,
           287.721,
           302.187,
           285.511,
           315.43,
           303.707,
           341.112,
           304.11,
           284.613,
           283.015,
           294.09,
           273.107,
           319.13,
           293.289,
           342.732,
           332.16,
           301.278,
           315.799
          ],
          [
           315.799,
           307.81,
           301.83,
           283.806,
           286.268,
           303.957,
           310.603,
           291.724,
           277.935,
           303.893,
           289.559,
           321.219,
           305.216,
           286.698,
           273.361,
           289.65,
           279.768,
           309.505,
           281.135,
           315.799
          ],
          [
           315.799,
           273.393,
           257.58,
           294.838,
           315.715,
           281.688,
           233.534,
           292.966,
           294.179,
           321.064,
           294.513,
           264.33,
           274.394,
           304.957,
           313.441,
           269.515,
           242.698,
           279.441,
           320.838,
           315.799
          ],
          [
           315.799,
           318.592,
           294.772,
           264.069,
           298.936,
           304.364,
           269.132,
           240.419,
           234.375,
           261.304,
           326.319,
           310.698,
           287.947,
           271.596,
           304.228,
           295.108,
           287.951,
           247.618,
           249.008,
           315.799
          ],
          [
           315.799,
           307.22,
           278.473,
           278.51,
           277.661,
           296.438,
           304.048,
           297.27,
           292.013,
           274.155,
           322.1,
           301.606,
           287.041,
           289.793,
           296.151,
           285.451,
           298.176,
           290.721,
           270.159,
           315.799
          ],
          [
           315.799,
           293.349,
           283.518,
           285.829,
           301.485,
           327.81,
           272.228,
           231.821,
           280.967,
           285.027,
           312.072,
           293.878,
           290.885,
           302.069,
           278.51,
           282.269,
           256.309,
           257.965,
           274.764,
           315.799
          ],
          [
           315.799,
           294.428,
           276.297,
           279.037,
           288.001,
           295.645,
           286.908,
           249.272,
           255.849,
           300.016,
           289.962,
           265.852,
           260.435,
           290.974,
           285.392,
           314.038,
           266.723,
           252.759,
           298.769,
           315.799
          ],
          [
           315.799,
           288.945,
           222.441,
           201.59,
           262.472,
           303.116,
           312.37,
           248.459,
           231.906,
           293.791,
           305.423,
           274.334,
           224.851,
           234.144,
           290.59,
           335.158,
           288.637,
           238.632,
           230.726,
           315.799
          ],
          [
           315.799,
           265.025,
           254.683,
           268.133,
           289.354,
           286.737,
           280.04,
           264.938,
           286.8,
           318.551,
           284.067,
           261.459,
           233.92,
           292.669,
           294.185,
           268.566,
           254.193,
           272.615,
           295.291,
           315.799
          ],
          [
           315.799,
           257.479,
           223.14,
           230.589,
           305.737,
           271.883,
           261.442,
           232.15,
           254.441,
           292.347,
           270.867,
           256.444,
           232.744,
           255.347,
           311.024,
           269.983,
           234.593,
           247.809,
           262.211,
           315.799
          ],
          [
           315.799,
           275.663,
           233.102,
           237.495,
           290.065,
           289.948,
           268.147,
           245.959,
           241.734,
           287.824,
           308.031,
           268.271,
           222.126,
           271.24,
           307.224,
           283.716,
           236.458,
           238.36,
           296.69,
           315.799
          ],
          [
           315.799,
           296.299,
           238.582,
           236.773,
           280.98,
           301.526,
           255.887,
           224.664,
           249.409,
           295.846,
           291.656,
           263.461,
           226.746,
           258.008,
           298.309,
           274.681,
           237.135,
           237.092,
           277.739,
           315.799
          ],
          [
           315.799,
           315.799,
           315.799,
           315.799,
           315.799,
           315.799,
           315.799,
           315.799,
           315.799,
           315.799,
           315.799,
           315.799,
           315.799,
           315.799,
           315.799,
           315.799,
           315.799,
           315.799,
           315.799,
           315.799
          ]
         ]
        }
       ],
       "layout": {
        "scene": {
         "xaxis": {
          "title": {
           "text": "Parameter: gamma"
          }
         },
         "yaxis": {
          "title": {
           "text": "Parameter: beta"
          }
         },
         "zaxis": {
          "title": {
           "text": "Energy"
          }
         }
        },
        "template": {
         "data": {
          "bar": [
           {
            "error_x": {
             "color": "#2a3f5f"
            },
            "error_y": {
             "color": "#2a3f5f"
            },
            "marker": {
             "line": {
              "color": "#E5ECF6",
              "width": 0.5
             },
             "pattern": {
              "fillmode": "overlay",
              "size": 10,
              "solidity": 0.2
             }
            },
            "type": "bar"
           }
          ],
          "barpolar": [
           {
            "marker": {
             "line": {
              "color": "#E5ECF6",
              "width": 0.5
             },
             "pattern": {
              "fillmode": "overlay",
              "size": 10,
              "solidity": 0.2
             }
            },
            "type": "barpolar"
           }
          ],
          "carpet": [
           {
            "aaxis": {
             "endlinecolor": "#2a3f5f",
             "gridcolor": "white",
             "linecolor": "white",
             "minorgridcolor": "white",
             "startlinecolor": "#2a3f5f"
            },
            "baxis": {
             "endlinecolor": "#2a3f5f",
             "gridcolor": "white",
             "linecolor": "white",
             "minorgridcolor": "white",
             "startlinecolor": "#2a3f5f"
            },
            "type": "carpet"
           }
          ],
          "choropleth": [
           {
            "colorbar": {
             "outlinewidth": 0,
             "ticks": ""
            },
            "type": "choropleth"
           }
          ],
          "contour": [
           {
            "colorbar": {
             "outlinewidth": 0,
             "ticks": ""
            },
            "colorscale": [
             [
              0,
              "#0d0887"
             ],
             [
              0.1111111111111111,
              "#46039f"
             ],
             [
              0.2222222222222222,
              "#7201a8"
             ],
             [
              0.3333333333333333,
              "#9c179e"
             ],
             [
              0.4444444444444444,
              "#bd3786"
             ],
             [
              0.5555555555555556,
              "#d8576b"
             ],
             [
              0.6666666666666666,
              "#ed7953"
             ],
             [
              0.7777777777777778,
              "#fb9f3a"
             ],
             [
              0.8888888888888888,
              "#fdca26"
             ],
             [
              1,
              "#f0f921"
             ]
            ],
            "type": "contour"
           }
          ],
          "contourcarpet": [
           {
            "colorbar": {
             "outlinewidth": 0,
             "ticks": ""
            },
            "type": "contourcarpet"
           }
          ],
          "heatmap": [
           {
            "colorbar": {
             "outlinewidth": 0,
             "ticks": ""
            },
            "colorscale": [
             [
              0,
              "#0d0887"
             ],
             [
              0.1111111111111111,
              "#46039f"
             ],
             [
              0.2222222222222222,
              "#7201a8"
             ],
             [
              0.3333333333333333,
              "#9c179e"
             ],
             [
              0.4444444444444444,
              "#bd3786"
             ],
             [
              0.5555555555555556,
              "#d8576b"
             ],
             [
              0.6666666666666666,
              "#ed7953"
             ],
             [
              0.7777777777777778,
              "#fb9f3a"
             ],
             [
              0.8888888888888888,
              "#fdca26"
             ],
             [
              1,
              "#f0f921"
             ]
            ],
            "type": "heatmap"
           }
          ],
          "heatmapgl": [
           {
            "colorbar": {
             "outlinewidth": 0,
             "ticks": ""
            },
            "colorscale": [
             [
              0,
              "#0d0887"
             ],
             [
              0.1111111111111111,
              "#46039f"
             ],
             [
              0.2222222222222222,
              "#7201a8"
             ],
             [
              0.3333333333333333,
              "#9c179e"
             ],
             [
              0.4444444444444444,
              "#bd3786"
             ],
             [
              0.5555555555555556,
              "#d8576b"
             ],
             [
              0.6666666666666666,
              "#ed7953"
             ],
             [
              0.7777777777777778,
              "#fb9f3a"
             ],
             [
              0.8888888888888888,
              "#fdca26"
             ],
             [
              1,
              "#f0f921"
             ]
            ],
            "type": "heatmapgl"
           }
          ],
          "histogram": [
           {
            "marker": {
             "pattern": {
              "fillmode": "overlay",
              "size": 10,
              "solidity": 0.2
             }
            },
            "type": "histogram"
           }
          ],
          "histogram2d": [
           {
            "colorbar": {
             "outlinewidth": 0,
             "ticks": ""
            },
            "colorscale": [
             [
              0,
              "#0d0887"
             ],
             [
              0.1111111111111111,
              "#46039f"
             ],
             [
              0.2222222222222222,
              "#7201a8"
             ],
             [
              0.3333333333333333,
              "#9c179e"
             ],
             [
              0.4444444444444444,
              "#bd3786"
             ],
             [
              0.5555555555555556,
              "#d8576b"
             ],
             [
              0.6666666666666666,
              "#ed7953"
             ],
             [
              0.7777777777777778,
              "#fb9f3a"
             ],
             [
              0.8888888888888888,
              "#fdca26"
             ],
             [
              1,
              "#f0f921"
             ]
            ],
            "type": "histogram2d"
           }
          ],
          "histogram2dcontour": [
           {
            "colorbar": {
             "outlinewidth": 0,
             "ticks": ""
            },
            "colorscale": [
             [
              0,
              "#0d0887"
             ],
             [
              0.1111111111111111,
              "#46039f"
             ],
             [
              0.2222222222222222,
              "#7201a8"
             ],
             [
              0.3333333333333333,
              "#9c179e"
             ],
             [
              0.4444444444444444,
              "#bd3786"
             ],
             [
              0.5555555555555556,
              "#d8576b"
             ],
             [
              0.6666666666666666,
              "#ed7953"
             ],
             [
              0.7777777777777778,
              "#fb9f3a"
             ],
             [
              0.8888888888888888,
              "#fdca26"
             ],
             [
              1,
              "#f0f921"
             ]
            ],
            "type": "histogram2dcontour"
           }
          ],
          "mesh3d": [
           {
            "colorbar": {
             "outlinewidth": 0,
             "ticks": ""
            },
            "type": "mesh3d"
           }
          ],
          "parcoords": [
           {
            "line": {
             "colorbar": {
              "outlinewidth": 0,
              "ticks": ""
             }
            },
            "type": "parcoords"
           }
          ],
          "pie": [
           {
            "automargin": true,
            "type": "pie"
           }
          ],
          "scatter": [
           {
            "marker": {
             "colorbar": {
              "outlinewidth": 0,
              "ticks": ""
             }
            },
            "type": "scatter"
           }
          ],
          "scatter3d": [
           {
            "line": {
             "colorbar": {
              "outlinewidth": 0,
              "ticks": ""
             }
            },
            "marker": {
             "colorbar": {
              "outlinewidth": 0,
              "ticks": ""
             }
            },
            "type": "scatter3d"
           }
          ],
          "scattercarpet": [
           {
            "marker": {
             "colorbar": {
              "outlinewidth": 0,
              "ticks": ""
             }
            },
            "type": "scattercarpet"
           }
          ],
          "scattergeo": [
           {
            "marker": {
             "colorbar": {
              "outlinewidth": 0,
              "ticks": ""
             }
            },
            "type": "scattergeo"
           }
          ],
          "scattergl": [
           {
            "marker": {
             "colorbar": {
              "outlinewidth": 0,
              "ticks": ""
             }
            },
            "type": "scattergl"
           }
          ],
          "scattermapbox": [
           {
            "marker": {
             "colorbar": {
              "outlinewidth": 0,
              "ticks": ""
             }
            },
            "type": "scattermapbox"
           }
          ],
          "scatterpolar": [
           {
            "marker": {
             "colorbar": {
              "outlinewidth": 0,
              "ticks": ""
             }
            },
            "type": "scatterpolar"
           }
          ],
          "scatterpolargl": [
           {
            "marker": {
             "colorbar": {
              "outlinewidth": 0,
              "ticks": ""
             }
            },
            "type": "scatterpolargl"
           }
          ],
          "scatterternary": [
           {
            "marker": {
             "colorbar": {
              "outlinewidth": 0,
              "ticks": ""
             }
            },
            "type": "scatterternary"
           }
          ],
          "surface": [
           {
            "colorbar": {
             "outlinewidth": 0,
             "ticks": ""
            },
            "colorscale": [
             [
              0,
              "#0d0887"
             ],
             [
              0.1111111111111111,
              "#46039f"
             ],
             [
              0.2222222222222222,
              "#7201a8"
             ],
             [
              0.3333333333333333,
              "#9c179e"
             ],
             [
              0.4444444444444444,
              "#bd3786"
             ],
             [
              0.5555555555555556,
              "#d8576b"
             ],
             [
              0.6666666666666666,
              "#ed7953"
             ],
             [
              0.7777777777777778,
              "#fb9f3a"
             ],
             [
              0.8888888888888888,
              "#fdca26"
             ],
             [
              1,
              "#f0f921"
             ]
            ],
            "type": "surface"
           }
          ],
          "table": [
           {
            "cells": {
             "fill": {
              "color": "#EBF0F8"
             },
             "line": {
              "color": "white"
             }
            },
            "header": {
             "fill": {
              "color": "#C8D4E3"
             },
             "line": {
              "color": "white"
             }
            },
            "type": "table"
           }
          ]
         },
         "layout": {
          "annotationdefaults": {
           "arrowcolor": "#2a3f5f",
           "arrowhead": 0,
           "arrowwidth": 1
          },
          "autotypenumbers": "strict",
          "coloraxis": {
           "colorbar": {
            "outlinewidth": 0,
            "ticks": ""
           }
          },
          "colorscale": {
           "diverging": [
            [
             0,
             "#8e0152"
            ],
            [
             0.1,
             "#c51b7d"
            ],
            [
             0.2,
             "#de77ae"
            ],
            [
             0.3,
             "#f1b6da"
            ],
            [
             0.4,
             "#fde0ef"
            ],
            [
             0.5,
             "#f7f7f7"
            ],
            [
             0.6,
             "#e6f5d0"
            ],
            [
             0.7,
             "#b8e186"
            ],
            [
             0.8,
             "#7fbc41"
            ],
            [
             0.9,
             "#4d9221"
            ],
            [
             1,
             "#276419"
            ]
           ],
           "sequential": [
            [
             0,
             "#0d0887"
            ],
            [
             0.1111111111111111,
             "#46039f"
            ],
            [
             0.2222222222222222,
             "#7201a8"
            ],
            [
             0.3333333333333333,
             "#9c179e"
            ],
            [
             0.4444444444444444,
             "#bd3786"
            ],
            [
             0.5555555555555556,
             "#d8576b"
            ],
            [
             0.6666666666666666,
             "#ed7953"
            ],
            [
             0.7777777777777778,
             "#fb9f3a"
            ],
            [
             0.8888888888888888,
             "#fdca26"
            ],
            [
             1,
             "#f0f921"
            ]
           ],
           "sequentialminus": [
            [
             0,
             "#0d0887"
            ],
            [
             0.1111111111111111,
             "#46039f"
            ],
            [
             0.2222222222222222,
             "#7201a8"
            ],
            [
             0.3333333333333333,
             "#9c179e"
            ],
            [
             0.4444444444444444,
             "#bd3786"
            ],
            [
             0.5555555555555556,
             "#d8576b"
            ],
            [
             0.6666666666666666,
             "#ed7953"
            ],
            [
             0.7777777777777778,
             "#fb9f3a"
            ],
            [
             0.8888888888888888,
             "#fdca26"
            ],
            [
             1,
             "#f0f921"
            ]
           ]
          },
          "colorway": [
           "#636efa",
           "#EF553B",
           "#00cc96",
           "#ab63fa",
           "#FFA15A",
           "#19d3f3",
           "#FF6692",
           "#B6E880",
           "#FF97FF",
           "#FECB52"
          ],
          "font": {
           "color": "#2a3f5f"
          },
          "geo": {
           "bgcolor": "white",
           "lakecolor": "white",
           "landcolor": "#E5ECF6",
           "showlakes": true,
           "showland": true,
           "subunitcolor": "white"
          },
          "hoverlabel": {
           "align": "left"
          },
          "hovermode": "closest",
          "mapbox": {
           "style": "light"
          },
          "paper_bgcolor": "white",
          "plot_bgcolor": "#E5ECF6",
          "polar": {
           "angularaxis": {
            "gridcolor": "white",
            "linecolor": "white",
            "ticks": ""
           },
           "bgcolor": "#E5ECF6",
           "radialaxis": {
            "gridcolor": "white",
            "linecolor": "white",
            "ticks": ""
           }
          },
          "scene": {
           "xaxis": {
            "backgroundcolor": "#E5ECF6",
            "gridcolor": "white",
            "gridwidth": 2,
            "linecolor": "white",
            "showbackground": true,
            "ticks": "",
            "zerolinecolor": "white"
           },
           "yaxis": {
            "backgroundcolor": "#E5ECF6",
            "gridcolor": "white",
            "gridwidth": 2,
            "linecolor": "white",
            "showbackground": true,
            "ticks": "",
            "zerolinecolor": "white"
           },
           "zaxis": {
            "backgroundcolor": "#E5ECF6",
            "gridcolor": "white",
            "gridwidth": 2,
            "linecolor": "white",
            "showbackground": true,
            "ticks": "",
            "zerolinecolor": "white"
           }
          },
          "shapedefaults": {
           "line": {
            "color": "#2a3f5f"
           }
          },
          "ternary": {
           "aaxis": {
            "gridcolor": "white",
            "linecolor": "white",
            "ticks": ""
           },
           "baxis": {
            "gridcolor": "white",
            "linecolor": "white",
            "ticks": ""
           },
           "bgcolor": "#E5ECF6",
           "caxis": {
            "gridcolor": "white",
            "linecolor": "white",
            "ticks": ""
           }
          },
          "title": {
           "x": 0.05
          },
          "xaxis": {
           "automargin": true,
           "gridcolor": "white",
           "linecolor": "white",
           "ticks": "",
           "title": {
            "standoff": 15
           },
           "zerolinecolor": "white",
           "zerolinewidth": 2
          },
          "yaxis": {
           "automargin": true,
           "gridcolor": "white",
           "linecolor": "white",
           "ticks": "",
           "title": {
            "standoff": 15
           },
           "zerolinecolor": "white",
           "zerolinewidth": 2
          }
         }
        },
        "title": {
         "text": "Energylandscape"
        }
       }
      }
     },
     "metadata": {},
     "output_type": "display_data"
    }
   ],
   "source": [
    "#import precomputed energylandscape of QUBO to interact with\n",
    "import json\n",
    "data_points = json.load(open(\"energylandscape_data.txt\"))\n",
    "\n",
    "import pandas as pd\n",
    "import plotly.graph_objects as go\n",
    "\n",
    "#create and display surface plot from data_points\n",
    "df = pd.DataFrame(data_points)\n",
    "df = df.pivot(index='beta', columns='gamma', values='energy')\n",
    "matrix = df.to_numpy()\n",
    "beta_values = df.index.tolist()\n",
    "gamma_values = df.columns.tolist()\n",
    "\n",
    "surface_plot = go.Surface(x=gamma_values, y=beta_values,z=matrix, colorscale ='Blues')\n",
    "fig = go.Figure(data = surface_plot)\n",
    "fig.update_traces(contours_z=dict(show=True, usecolormap=True,\n",
    "                                  highlightcolor=\"limegreen\", project_z=True))\n",
    "fig.update_layout(title_text='Energylandscape', scene = dict(\n",
    "                    xaxis_title='Parameter: gamma',\n",
    "                    yaxis_title='Parameter: beta',\n",
    "                    zaxis_title='Energy'),\n",
    "                    )\n",
    "fig.show()"
   ]
  },
  {
   "cell_type": "markdown",
   "metadata": {},
   "source": [
    "### Todo\n",
    "add plots here and after QAOA  (if there is more you guys want to add to the previous shown ones)\n"
   ]
  },
  {
   "cell_type": "markdown",
   "metadata": {},
   "source": [
    "## Outlook (on variational algorithms)\n",
    "\n",
    "- Warm-start QAOA & other variants\n",
    "- Error mitigation\n",
    "- QITE\n",
    "- Move towards problem-specific algorithms and even hardware"
   ]
  },
  {
   "cell_type": "markdown",
   "metadata": {},
   "source": []
  }
 ],
 "metadata": {
  "interpreter": {
   "hash": "051a824ac26c72aaef341e71ec2893c0085d15a14e2311a466a88195d0e3273c"
  },
  "kernelspec": {
   "display_name": "Python 3.9.7 ('qiskit_cur')",
   "language": "python",
   "name": "python3"
  },
  "language_info": {
   "codemirror_mode": {
    "name": "ipython",
    "version": 3
   },
   "file_extension": ".py",
   "mimetype": "text/x-python",
   "name": "python",
   "nbconvert_exporter": "python",
   "pygments_lexer": "ipython3",
   "version": "3.9.7"
  },
  "orig_nbformat": 4
 },
 "nbformat": 4,
 "nbformat_minor": 2
}
